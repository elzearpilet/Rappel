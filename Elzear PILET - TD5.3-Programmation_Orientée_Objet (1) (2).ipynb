{
  "metadata": {
    "colab": {
      "provenance": []
    },
    "kernelspec": {
      "name": "python",
      "display_name": "Python (Pyodide)",
      "language": "python"
    },
    "language_info": {
      "codemirror_mode": {
        "name": "python",
        "version": 3
      },
      "file_extension": ".py",
      "mimetype": "text/x-python",
      "name": "python",
      "nbconvert_exporter": "python",
      "pygments_lexer": "ipython3",
      "version": "3.8"
    }
  },
  "nbformat_minor": 5,
  "nbformat": 4,
  "cells": [
    {
      "cell_type": "markdown",
      "source": "---",
      "metadata": {},
      "id": "ed0a8088"
    },
    {
      "cell_type": "markdown",
      "source": " <p align =center> <img src=\"https://github.com/esabahi/NSI_Images/blob/main/NSI-Image.png?raw=true\" width=350>\n    </p>",
      "metadata": {},
      "id": "b88a1932"
    },
    {
      "cell_type": "markdown",
      "source": "# TD5.3 - Programmation_Orientée_Objet\n\n\n****************************************\n\n",
      "metadata": {
        "id": "W84lcE_dziVB"
      },
      "id": "W84lcE_dziVB"
    },
    {
      "cell_type": "markdown",
      "source": "Exercice 1:   Ecrire les getters et les setters des classes Film et Personne définies ci-contre.\nCréer une instance de la classe Film de votre choix.\nCréer une instance acteur (de votre film)de la classe Personne.\nCréer une instance réalisateur (de votre film) de la classe Personne\nAfficher l'année de naissance du réalisateur de votre film.",
      "metadata": {},
      "id": "f083c0e8"
    },
    {
      "cell_type": "markdown",
      "source": "Votre réponse:\n\n---------\n<font color='green'>ici.....</font>\n",
      "metadata": {
        "id": "1c703444"
      },
      "id": "1c703444"
    },
    {
      "cell_type": "code",
      "source": "class Film:\n    def __init__(self,titre,realisateur):\n        self.titre=titre\n        self.realisateur=realisateur\n        \n    def get_titre(self):\n        return self.titre\n    \n    def set_titre(self,new_titre):\n        self.titre=new_titre\n        \n    def get_realisateur(self):\n        return self.realisateur\n    \n    def set_reamisateur(self,new_realisateur):\n        self.titre=new_realisateur     \nclass Personne:\n    def __init__(self,nom,annee_naissance,lieu_naissance):\n        self.nom=nom\n        self.annee_naissance=annee_naissance\n        self.lieu_naiussance=lieu_naissance\n        \n    def get_nom(self):\n        return self.nom\n    \n    def set_nom(self,new_nom):\n        self.titre=new_nom\n        \n    def get_annee_naissance(self):\n        return self.annee_naissance\n    \n    def set_annee_naissance(self,new_annee_naissance):\n        self.annee_naissance=new_annee_naissance\n        \n        \n    def get_lieu_naissance(self):\n        return self.lieu_naissance\n    \n    def set_lieu_naissance(self,new_lieu_naissance):\n        self.titre=new_lieu_naissance\n        \n   \n    \n   \nMon_film = Film(\"James Bond\",\"Ruben\")\nacteur = Personne(\"Daniel Craig\",\"1968\",\"Chester\")\nrealisateur = Personne(\"Ruben\",\"2005\",\"Lille\")\nprint(realisateur.get_annee_naissance())\nrealisateur.set_annee_naissance(2010)\nprint(realisateur.get_annee_naissance())",
      "metadata": {
        "vscode": {
          "languageId": "plaintext"
        },
        "trusted": true
      },
      "execution_count": 24,
      "outputs": [
        {
          "name": "stdout",
          "text": "2005\n2010\n",
          "output_type": "stream"
        }
      ],
      "id": "8c5f9934"
    },
    {
      "cell_type": "markdown",
      "source": "Exercice 2:",
      "metadata": {
        "jupyter": {
          "source_hidden": true
        },
        "tags": []
      },
      "id": "260c6300"
    },
    {
      "cell_type": "markdown",
      "source": "Votre réponse:\n\n---------\n<font color='green'>ici.....</font>\n",
      "metadata": {},
      "id": "a8a8886a"
    },
    {
      "cell_type": "code",
      "source": "class Adresse:\n    def __init__(self,rue,ville,code_postal):\n        self.rue=rue\n        self.ville=ville\n        self.code_postal=code_postal\n        \n    def get_titre(self):\n        return self.titre\n    \n    def set_rue(self,new_rue):\n        self.rue=new_rue\n        \n    def get_rue(self):\n        return self.rue\n    \n    def set_ville(self,new_ville):\n        self.ville=new_ville\n    \n    def get_ville(self):\n        return self.ville\n    \n    def set_code_postal(self,new_code_postal):\n        self.code_postal=new_code_postal\n        \n    def get_code_postal(self):\n        return self.code_postal",
      "metadata": {
        "vscode": {
          "languageId": "plaintext"
        },
        "scrolled": true,
        "tags": [],
        "trusted": true
      },
      "execution_count": 25,
      "outputs": [
        {
          "ename": "<class 'SyntaxError'>",
          "evalue": "invalid syntax (<ipython-input-25-44d65893f2ba>, line 1)",
          "traceback": [
            "\u001b[0;36m  Cell \u001b[0;32mIn[25], line 1\u001b[0;36m\u001b[0m\n\u001b[0;31m    Class Adresse:\u001b[0m\n\u001b[0m          ^\u001b[0m\n\u001b[0;31mSyntaxError\u001b[0m\u001b[0;31m:\u001b[0m invalid syntax\n"
          ],
          "output_type": "error"
        }
      ],
      "id": "0c4d13fa"
    },
    {
      "cell_type": "code",
      "source": "class Personne:\n    def __init__(self, nom, sexe, adresses):\n        self.nom = nom\n        self.sexe = sexe\n        self.adresses = adresses\n\n    def get_nom(self):\n        return self.nom\n\n    def set_nom(self, nom):\n        self.nom = nom\n\n    def get_sexe(self):\n        return self.sexe\n\n    def set_sexe(self, sexe):\n        self.sexe = sexe\n\n    def get_adresses(self):\n        return self.adresses\n\n    def set_adresses(self, adresses):\n        self.adresses = adresses\n",
      "metadata": {},
      "execution_count": null,
      "outputs": [],
      "id": "7d1c73e1-393c-436f-82dc-c238a1fe4c88"
    },
    {
      "cell_type": "code",
      "source": "",
      "metadata": {},
      "execution_count": null,
      "outputs": [],
      "id": "6cf5d186-1162-411b-8a02-3920d2792966"
    },
    {
      "cell_type": "code",
      "source": "",
      "metadata": {},
      "execution_count": null,
      "outputs": [],
      "id": "304bf2fa-196e-4226-ad9e-4a41643f9a74"
    }
  ]
}