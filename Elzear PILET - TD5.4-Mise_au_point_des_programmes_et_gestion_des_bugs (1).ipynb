{
  "metadata": {
    "colab": {
      "provenance": []
    },
    "kernelspec": {
      "name": "python",
      "display_name": "Python (Pyodide)",
      "language": "python"
    },
    "language_info": {
      "codemirror_mode": {
        "name": "python",
        "version": 3
      },
      "file_extension": ".py",
      "mimetype": "text/x-python",
      "name": "python",
      "nbconvert_exporter": "python",
      "pygments_lexer": "ipython3",
      "version": "3.8"
    }
  },
  "nbformat_minor": 4,
  "nbformat": 4,
  "cells": [
    {
      "cell_type": "markdown",
      "source": " <p align =center> <img src=\"https://github.com/esabahi/NSI_Images/blob/main/NSI-Image.png?raw=true\" width=350>\n    </p>",
      "metadata": {
        "id": "9w6gqUk23GWS"
      }
    },
    {
      "cell_type": "markdown",
      "source": "<h1 style=\"font-size: 30px; text-align: center\">TD5.4-Mise au point des programmes et gestion des bugs\n\n---\n\n# 🟥 Documenter son programme\n\n## 🐍 Exercice 1\n\n**Q1** : Donnez un meilleur nom et une chaîne de documentation à la fonction suivante.\n\n```python\ndef f(a, b):\n    return a + b\n```",
      "metadata": {
        "id": "GlWSTcNftLXO"
      }
    },
    {
      "cell_type": "code",
      "source": "# à vous de jouer !\n\ndef addition(a, b):\n    \"\"\"\n    Cette fonction prend deux nombres en entrée et retourne leur somme.\n    :param a: Le premier nombre.\n    :param b: Le deuxième nombre.\n    :return: La somme de a et b.\n    \"\"\"\n    return a + b\n",
      "metadata": {
        "id": "DVHmN_5CtLXS"
      },
      "execution_count": null,
      "outputs": []
    },
    {
      "cell_type": "markdown",
      "source": "**Q2** : Utilisez la fonction `help` pour accéder à la chaîne de documentation de cette fonction.",
      "metadata": {
        "id": "QkCK4yBztLXU"
      }
    },
    {
      "cell_type": "code",
      "source": "# à vous de jouer !\ndef addition(a, b):\n    \"\"\"\n    Cette fonction prend deux nombres en entrée et retourne leur somme.\n    :param a: Le premier nombre.\n    :param b: Le deuxième nombre.\n    :return: La somme de a et b.\n    \"\"\"\n    return a + b\n\naddition(4,7)\nhelp(addition)",
      "metadata": {
        "id": "xbFb6lyBtLXU",
        "trusted": true
      },
      "execution_count": 4,
      "outputs": [
        {
          "name": "stdout",
          "text": "Help on function addition in module __main__:\n\naddition(a, b)\n    Cette fonction prend deux nombres en entrée et retourne leur somme.\n    :param a: Le premier nombre.\n    :param b: Le deuxième nombre.\n    :return: La somme de a et b.\n\n",
          "output_type": "stream"
        }
      ]
    },
    {
      "cell_type": "markdown",
      "source": "## 🐍 Exercice 2\n\n**Q1** : Donnez un meilleur nom et une chaîne de documentation à la fonction suivante, le paramètre `t` étant un tableau.\n\n```python\ndef mystere(t):\n    s = 0\n    for i in range(len(t)):\n        s = s + t[i]\n    return s / n\n```",
      "metadata": {
        "id": "nx5ge4bAtLXV"
      }
    },
    {
      "cell_type": "code",
      "source": "def moyenne(t):\n    \"\"\"\n    Cette fonction calcule la moyenne des éléments d'un tableau.\n\n    :param t: Un tableau (ou une liste) d'entiers.\n    :return: La moyenne des éléments du tableau.\n    \"\"\"\n    s = 0\n    for i in range(len(t)):\n        s = s + t[i]\n    return s / len(t)",
      "metadata": {
        "id": "il9m1YvEtLXV"
      },
      "execution_count": null,
      "outputs": []
    },
    {
      "cell_type": "markdown",
      "source": "**Q2** : Utilisez la fonction `help` pour accéder à la chaîne de documentation de cette fonction.",
      "metadata": {
        "id": "G91FljqJtLXV"
      }
    },
    {
      "cell_type": "code",
      "source": "# à vous de jouer !\ndef moyenne(t):\n    \"\"\"\n    Cette fonction calcule la moyenne des éléments d'un tableau.\n\n    :param t: Un tableau (ou une liste) d'entiers.\n    :return: La moyenne des éléments du tableau.\n    \"\"\"\n    s = 0\n    for i in range(len(t)):\n        s = s + t[i]\n    return s / len(t)\n\nhelp(moyenne)",
      "metadata": {
        "id": "pjFeagOatLXV",
        "trusted": true
      },
      "execution_count": 5,
      "outputs": [
        {
          "name": "stdout",
          "text": "Help on function moyenne in module __main__:\n\nmoyenne(t)\n    Cette fonction calcule la moyenne des éléments d'un tableau.\n    \n    :param t: Un tableau (ou une liste) d'entiers.\n    :return: La moyenne des éléments du tableau.\n\n",
          "output_type": "stream"
        }
      ]
    },
    {
      "cell_type": "markdown",
      "source": "# 🟥 Programmation défensive\n\n## 🐍 Exercice 3\n\nOn considère la fonction `indice_maxi_tab(T)` suivante. À l'aide de la construction `assert`, proposez un test vérifiant si la précondition sur le tableau `T` est validée (*on ne cherchera pas à écrire la fonction*).",
      "metadata": {
        "id": "KdSb9o6wtLXV"
      }
    },
    {
      "cell_type": "code",
      "source": "def indice_maxi_tab(T):\n    \"\"\"\n    Renvoie l'indice de la première occurence de la valeur\n    maximale du tableau T. T est supposé non vide.\n    \"\"\"\n    # TEST A ECRIRE ICI\n    \nT=[]\ntry:\n    assert T\n    print(\"La précondition est vérifiée : le tableau T n'est pas vide.\")\nexcept AssertionError:\n    print(\"La précondition n'est pas vérifiée : le tableau T est vide.\")",
      "metadata": {
        "id": "Klk3T4SJtLXW",
        "trusted": true
      },
      "execution_count": 8,
      "outputs": [
        {
          "name": "stdout",
          "text": "La précondition n'est pas vérifiée : le tableau T est vide.\n",
          "output_type": "stream"
        }
      ]
    },
    {
      "cell_type": "markdown",
      "source": "## 🐍 Exercice 4\n\nOn considère la fonction `quotient(a, b)` suivante. À l'aide de la construction `assert`, proposez un test vérifiant si les préconditions sont validées.\n",
      "metadata": {
        "id": "NsHDXOfbtLXW"
      }
    },
    {
      "cell_type": "code",
      "source": "def quotient(a, b):\n    '''\n    Renvoie la valeur du quotient de a par b, b étant non nul.\n    '''\n    # TEST A ECRIRE ICI\n\nb=0\ntry:\n    assert b\n    print(\"La précondition est vérifiée : b n'est pas nul.\")\nexcept AssertionError:\n    print(\"La précondition n'est pas vérifiée : b est nul.\")",
      "metadata": {
        "id": "NG5OBDXDtLXW",
        "trusted": true
      },
      "execution_count": 40,
      "outputs": []
    },
    {
      "cell_type": "markdown",
      "source": "# 🟥 Tester ses programmes\n\n## 🐍 Exercice 5\n\n\n**Q1** : En utilisant `assert`, donnez un jeu de tests de qualité pour la fonction `multiplication` suivante.\n\n**Q2** : Vérifiez ensuite que les tests passent avec succès.",
      "metadata": {
        "id": "th-Kejq1tLXX"
      }
    },
    {
      "cell_type": "code",
      "source": "def multiplication(a, b):\n    '''\n    Renvoie le produit de a par b,\n    où a et b sont deux nombres quelconques.\n    '''\n    return a * b\n\n# jeu de tests à écrire ici\ndef tests():\n    try:\n        assert multiplication(2, 3) == 6\n        assert multiplication(-2, -3) == 6\n        assert multiplication(-9, 0) == 0\n        assert multiplication(-99, 1) == -99\n        assert multiplication(-456, -1) == 456\n        assert multiplication(0.5, 3) == 1.5\n    except AssertionError:\n        print(\"il y a un probleme dans le programme\")\n\nprint(tests())",
      "metadata": {
        "id": "PFxJcBNotLXX",
        "trusted": true
      },
      "execution_count": 44,
      "outputs": [
        {
          "name": "stdout",
          "text": "il y a un probleme dans le programme\nNone\n",
          "output_type": "stream"
        }
      ]
    },
    {
      "cell_type": "markdown",
      "source": "## 🐍 Exercice 6\n\n\n**Q1** : En utilisant `assert`, donnez un jeu de tests de qualité pour la fonction `somme` suivante.\n\n**Q2** : Vérifiez ensuite que les tests passent avec succès.\n\n```python\ndef somme(t):\n    '''\n    Renvoie la somme des éléments du tableau t,\n    t étant un tableau de nombres\n    '''\n    s = 0\n    for i in range(len(t)):\n        s = s + t[i]\n    return s\n```\n\n",
      "metadata": {
        "id": "sXwgk7MBtLXX",
        "tags": []
      }
    },
    {
      "cell_type": "markdown",
      "source": "",
      "metadata": {
        "id": "40yxOiF-3B8X"
      }
    },
    {
      "cell_type": "code",
      "source": "# à vous de jouer !\ndef somme(t):\n    '''\n    Renvoie la somme des éléments du tableau t,\n    t étant un tableau de nombres\n    '''\n    s = 0\n    for i in range(len(t)):\n        s = s + t[i]\n    return s\n\ndef tests():\n    try:\n        assert somme([8,7,4]) == 19\n        assert somme([-5,7,4]) == 6\n        assert somme([1.5,-2,3]) == 2.5\n    except AssertionError:\n        print(\"il y a un probleme dans le programme\")\n\nprint(tests())    \n",
      "metadata": {
        "id": "aKd0ZiZ-tLXX",
        "trusted": true
      },
      "execution_count": 46,
      "outputs": [
        {
          "name": "stdout",
          "text": "il y a un probleme dans le programme\nNone\n",
          "output_type": "stream"
        }
      ]
    },
    {
      "cell_type": "markdown",
      "source": "## 🐍 Exercice 7\n\nOn cherche à écrire une fonction `est_croissant(t)` qui renvoie `True` si le tableau `t` est trié dans l'ordre croissant et `False` sinon.\n\n**Q1** : Complétez la fonction `tests_est_croissante` avec un jeu de tests de qualité pour la fonction `est_croissante` (*on ne cherchera pas à écrire le code de la fonction*).\n\n> <span style=\"font-size:1.5em\">📣</span> Ici, on écrit tous les tests dans une fonction, qu'il suffira d'appeler par la suite pour lancer les tests",
      "metadata": {
        "id": "9IAWq4P4tLXX"
      }
    },
    {
      "cell_type": "code",
      "source": "# à vous de jouer !\n\ndef tests_est_croissante():\n    \"\"\"\n    Fonction lançant des tests pour la fonction est_croissante\n    \"\"\"\n    # jeu de tests à écrire ici\n    try:\n        assert est_croissante([]) is True\n\n        assert est_croissante([42]) is True\n\n        assert est_croissante([1, 2, 3, 4, 5]) is True\n\n        assert est_croissante([5, 4, 3, 2, 1]) is False\n\n        assert est_croissante([5, 5, 5, 5, 5]) is True\n\n        assert est_croissante([3, 1, 4, 2, 5]) is False\n\n        assert est_croissante([-5, -3, -1, 0, 2]) is True\n\n        assert est_croissante([-5, 0, 1, 3, -2]) is False\n\n        assert est_croissante([\"a\", \"b\", \"c\", \"d\", \"e\"]) is True\n\n        assert est_croissante([\"e\", \"d\", \"c\", \"b\", \"a\"]) is False\n    except AssertionError:\n        print(\"erreur dans le programme\")\n\ntests_est_croissante()\n",
      "metadata": {
        "id": "Zq6KPO6XtLXY",
        "trusted": true
      },
      "execution_count": 49,
      "outputs": [
        {
          "ename": "<class 'NameError'>",
          "evalue": "name 'est_croissante' is not defined",
          "traceback": [
            "\u001b[0;31m---------------------------------------------------------------------------\u001b[0m",
            "\u001b[0;31mNameError\u001b[0m                                 Traceback (most recent call last)",
            "Cell \u001b[0;32mIn[49], line 31\u001b[0m\n\u001b[1;32m     28\u001b[0m     \u001b[38;5;28;01mexcept\u001b[39;00m \u001b[38;5;167;01mAssertionError\u001b[39;00m:\n\u001b[1;32m     29\u001b[0m         \u001b[38;5;28mprint\u001b[39m(\u001b[38;5;124m\"\u001b[39m\u001b[38;5;124merreur dans le programme\u001b[39m\u001b[38;5;124m\"\u001b[39m)\n\u001b[0;32m---> 31\u001b[0m \u001b[43mtests_est_croissante\u001b[49m\u001b[43m(\u001b[49m\u001b[43m)\u001b[49m\n",
            "Cell \u001b[0;32mIn[49], line 9\u001b[0m, in \u001b[0;36mtests_est_croissante\u001b[0;34m()\u001b[0m\n\u001b[1;32m      7\u001b[0m \u001b[38;5;66;03m# jeu de tests à écrire ici\u001b[39;00m\n\u001b[1;32m      8\u001b[0m \u001b[38;5;28;01mtry\u001b[39;00m:\n\u001b[0;32m----> 9\u001b[0m     \u001b[38;5;28;01massert\u001b[39;00m \u001b[43mest_croissante\u001b[49m([]) \u001b[38;5;129;01mis\u001b[39;00m \u001b[38;5;28;01mTrue\u001b[39;00m\n\u001b[1;32m     11\u001b[0m     \u001b[38;5;28;01massert\u001b[39;00m est_croissante([\u001b[38;5;241m42\u001b[39m]) \u001b[38;5;129;01mis\u001b[39;00m \u001b[38;5;28;01mTrue\u001b[39;00m\n\u001b[1;32m     13\u001b[0m     \u001b[38;5;28;01massert\u001b[39;00m est_croissante([\u001b[38;5;241m1\u001b[39m, \u001b[38;5;241m2\u001b[39m, \u001b[38;5;241m3\u001b[39m, \u001b[38;5;241m4\u001b[39m, \u001b[38;5;241m5\u001b[39m]) \u001b[38;5;129;01mis\u001b[39;00m \u001b[38;5;28;01mTrue\u001b[39;00m\n",
            "\u001b[0;31mNameError\u001b[0m: name 'est_croissante' is not defined"
          ],
          "output_type": "error"
        }
      ]
    },
    {
      "cell_type": "markdown",
      "source": "**Q2** : Un elève propose le code suivant pour la fonction `est_croissant(t)` de l'exercice précédent. Faites passer vos tests à cette fonction.\n",
      "metadata": {
        "id": "pWD0ioIvtLXY"
      }
    },
    {
      "cell_type": "code",
      "source": "def est_croissant(t):\n    \"\"\"\n    Renvoie True si le tableau t est trié dans l'ordre croissant,\n    et False sinon.\n    \"\"\"\n    for i in range(len(t)):\n        if t[i+1] > t[i]:\n            return False\n    return True\n\ndef tests_est_croissante():\n    \"\"\"\n    Fonction lançant des tests pour la fonction est_croissante\n    \"\"\"\n    # jeu de tests à écrire ici\n    try:\n        assert est_croissant([]) is True\n\n        assert est_croissant([1, 2, 3, 4, 5]) is True\n\n        assert est_croissant([5, 4, 3, 2, 1]) is False\n\n        assert est_croissant([5, 5, 5, 5, 5]) is True\n\n        assert est_croissant([3, 1, 4, 2, 5]) is False\n\n        assert est_croissant([-5, -3, -1, 0, 2]) is True\n        \n        assert est_croissant([-5, 0, 1, 3, -2]) is False\n\n        assert est_croissant([\"a\", \"b\", \"c\", \"d\", \"e\"]) is True\n\n        assert est_croissant([\"e\", \"d\", \"c\", \"b\", \"a\"]) is False\n    except AssertionError:\n        print(\"erreur dans le programme\")\n\ntests_est_croissante()\n\n",
      "metadata": {
        "id": "sIj1-GFktLXY",
        "trusted": true
      },
      "execution_count": 60,
      "outputs": [
        {
          "name": "stdout",
          "text": "erreur dans le programme\n",
          "output_type": "stream"
        }
      ]
    },
    {
      "cell_type": "markdown",
      "source": "**Q3** : Trouvez l'erreur, soit en affichant l'état de certaines variables à des points stratégiques, soit en utilisant l'outil [Python tutor](https://pythontutor.com/python-debugger.html#mode=edit). Quelle est cette erreur ?\n\n",
      "metadata": {
        "id": "kmm8ClwPtLXY"
      }
    },
    {
      "cell_type": "raw",
      "source": "Réponse : Dans le programme comme on a \"for i in range(len(t))\" et if t[i+1] on ne pouvait pas car on sortait de la limite du tableau et le si < n'etait psa dans le bon sens.",
      "metadata": {
        "id": "eIv1-XQdtLXY"
      }
    },
    {
      "cell_type": "markdown",
      "source": "**Q4** : Corrigez alors le code de la fonction et vérifiez que tous les tests sont validés.",
      "metadata": {
        "id": "-L62LB19tLXY"
      }
    },
    {
      "cell_type": "code",
      "source": "# à vous de jouer !\ndef est_croissant(t):\n    \"\"\"\n    Renvoie True si le tableau t est trié dans l'ordre croissant,\n    et False sinon.\n    \"\"\"\n    for i in range(len(t)-1):\n        if t[i+1] < t[i]:\n            return False\n    return True\n\ndef tests_est_croissante():\n    \"\"\"\n    Fonction lançant des tests pour la fonction est_croissante\n    \"\"\"\n    # jeu de tests à écrire ici\n    try:\n        assert est_croissant([]) is True\n\n        assert est_croissant([1, 2, 3, 4, 5]) is True\n\n        assert est_croissant([5, 4, 3, 2, 1]) is False\n\n        assert est_croissant([5, 5, 5, 5, 5]) is True\n\n        assert est_croissant([3, 1, 4, 2, 5]) is False\n\n        assert est_croissant([-5, -3, -1, 0, 2]) is True\n        \n        assert est_croissant([-5, 0, 1, 3, -2]) is False\n\n        assert est_croissant([\"a\", \"b\", \"c\", \"d\", \"e\"]) is True\n\n        assert est_croissant([\"e\", \"d\", \"c\", \"b\", \"a\"]) is False\n    except AssertionError:\n        print(\"erreur dans le programme\")\n\ntests_est_croissante()\n",
      "metadata": {
        "id": "xEmJJbHBtLXZ",
        "trusted": true
      },
      "execution_count": 61,
      "outputs": []
    },
    {
      "cell_type": "markdown",
      "source": "## 🐍 Exercice 8\n\nOn veut écrire une fonction `annee_naissance(prenom, tab)` qui renvoie l'année de naissance de la personne ayant pour prénom `prenom` dans le tableau `tab`, dont les éléments sont des tuples de la forme (prénom, année de naissance, ville de naissance). Si `prenom` n'apparaît pas dans `tab` alors la fonction doit renvoyer `None`.\n\nExemple :\n\n```python\n>>> tab = [('Lucas', 2002, 'Marseille'), ('Élodie', 2003, 'Angers'), ('Marie', 2001, 'Angers'), ('Jade', 2007, 'New York')]\n>>> annee_naissance('Marie', tab)\n2001\n```",
      "metadata": {
        "id": "O8mpgLsYtLXZ"
      }
    },
    {
      "cell_type": "markdown",
      "source": "**Q1** : Proposez une fonction `test_annee_naissance` qui permettra de tester la fonction `annee_naissance` grâce à un jeu de tests bien choisi.",
      "metadata": {
        "id": "qfK5fzOVtLXZ"
      }
    },
    {
      "cell_type": "code",
      "source": "# à vous de jouer !\ndef test_annee_naissance():\n    try:\n        \n        tab = [('Lucas', 2002, 'Marseille'), ('Élodie', 2003, 'Angers'), ('Marie', 2001, 'Angers'), ('Jade', 2007, 'New York')]\n        assert annee_naissance('Marie', tab) == 2001\n\n        assert annee_naissance('Alice', tab) is None\n\n        assert annee_naissance('Lucas', []) is None\n\n        tab = [('Lucas', 2002, 'Marseille'), ('Lucas', 1998, 'Paris'), ('Marie', 2001, 'Angers')]\n        assert annee_naissance('Lucas', tab) == 2002\n    except AssertionError:\n          print(\"erreur dans le programme\")\n\n        \n\n\ndef annee_naissance(prenom, tab):\n    for item in tab:\n        if item[0] == prenom:\n            return item[1]\n    return None\n\ntest_annee_naissance()",
      "metadata": {
        "id": "aLZy5wPstLXZ",
        "trusted": true
      },
      "execution_count": 69,
      "outputs": [
        {
          "name": "stdout",
          "text": "erreur dans le programme\n",
          "output_type": "stream"
        }
      ]
    },
    {
      "cell_type": "markdown",
      "source": "**Q2** : Écrivez la fonction `annee_naissance(prenom, tab)` et vérifiez qu'elle passe tous les tests.",
      "metadata": {
        "id": "yXwIQzz8tLXa"
      }
    },
    {
      "cell_type": "code",
      "source": "# à vous de jouer !\ndef annee_naissance(prenom, tab):\n    for item in tab:\n        if item[0] == prenom:\n            return item[1]\n    return None",
      "metadata": {
        "id": "Vfh9M-uHtLXa"
      },
      "execution_count": null,
      "outputs": []
    },
    {
      "cell_type": "markdown",
      "source": "## 🐍 Exercice 9\n\nOn veut écrire une fonction `meilleure_note` qui prend en paramètre un dictionnaire `resultats` dans lequel les clés sont des prénoms d'élèves et leurs valeurs associées sont des notes à un devoir, et qui renvoie la meilleure note à ce devoir.\n\nExemple :\n\n```python\n>>> meilleure_note({'Marie': 15, 'Laurent': 12, 'Julie': 18, 'Antoine': 17})\n18\n```\n\n**Q1** : Écrivez la chaîne de documentation de cette fonction `meilleure_note` pour y intégrer directement les tests.",
      "metadata": {
        "id": "fFzA0QTstLXa"
      }
    },
    {
      "cell_type": "code",
      "source": "# à vous de jouer !\ndef meilleure_note(resultats):\n    \"\"\"\n    Renvoie la meilleure note parmi les résultats d'un devoir.\n\n    :param resultats: Un dictionnaire avec les prénoms des élèves comme clés et leurs notes comme valeurs.\n    :type resultats: dict\n\n    :return: La meilleure note parmi les notes des élèves.\n    :rtype: int\n\n    Exemples de tests :\n    \n    >>> meilleure_note({'Marie': 15, 'Laurent': 12, 'Julie': 18, 'Antoine': 17})\n    18\n    >>> meilleure_note({'Alice': 14, 'Bob': 16, 'Claire': 15, 'David': 14})\n    16\n    >>> meilleure_note({'Eva': 19, 'Frank': 19, 'Grace': 19})\n    19\n    >>> meilleure_note({})\n    None\n    \"\"\"\n    if not resultats:\n        return None\n    return max(resultats.values())",
      "metadata": {
        "id": "qXHTCkxUtLXa"
      },
      "execution_count": null,
      "outputs": []
    },
    {
      "cell_type": "markdown",
      "source": "**Q2** : Écrivez le code de cette fonction.\n\n**Q3** : Utilisez le module `doctest` pour vérifier les tests intégrés à la chaîne de documentation. Modifiez la fonction si les tests échouent.",
      "metadata": {
        "id": "OcebVU6dtLXa"
      }
    },
    {
      "cell_type": "code",
      "source": "# à vous de jouer !\ndef meilleure_note(resultats):\n    if not resultats:\n        return None\n    meilleure = max(resultats.values())\n    \n    return meilleure\n\nresultats = {'Marie': 15, 'Laurent': 12, 'Julie': 18, 'Antoine': 17}\nmeilleure = meilleure_note(resultats)\nprint(meilleure)",
      "metadata": {
        "id": "1toYlgoAtLXb",
        "trusted": true
      },
      "execution_count": 70,
      "outputs": [
        {
          "name": "stdout",
          "text": "18\n",
          "output_type": "stream"
        }
      ]
    },
    {
      "cell_type": "markdown",
      "source": "---\n\n**Références :**\n- Documents ressources du DIU EIL Nantes, C. DECLERCQ.\n- Numérique et Sciences Informatiques, 1re, T. BALABONSKI, S. CONCHON, J.-C. FILLIATRE, K. NGUYEN, éditions ELLIPSES : [Site du livre](https://www.nsi-premiere.fr/)\n-Germain BECKER & Sébastien POINT, Lycée Mounier, ANGERS",
      "metadata": {
        "id": "5O7H9-ektLXb"
      }
    },
    {
      "cell_type": "markdown",
      "source": "| <span style='color:Blue'> L.H & E.S |  | |   | |     |<span style='color:Blue'> NSI Terminale | |   | ||<span style='color:Blue'> Lycée Ozanam (Lille)|\n| --- | --- |--- |--- |--- |--- | --- | --- |--- |--- | --- | --- |",
      "metadata": {
        "id": "3AMQDjOf4CpJ"
      }
    }
  ]
}