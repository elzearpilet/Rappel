{
 "cells": [
  {
   "cell_type": "markdown",
   "id": "1443e017",
   "metadata": {},
   "source": [
    "---"
   ]
  },
  {
   "attachments": {
    "Image1.jpg": {
     "image/jpeg": "[encoded data removed]"
    }
   },
   "cell_type": "markdown",
   "id": "d15d6e61",
   "metadata": {},
   "source": [
    "![Image1.jpg](attachment:Image1.jpg)"
   ]
  },
  {
   "cell_type": "markdown",
   "id": "aff477f4",
   "metadata": {},
   "source": [
    "# TP2.2 - Représentation des caractères\n",
    "\n",
    "Durée de l'activité proposée : 1h30 en classe"
   ]
  },
  {
   "cell_type": "markdown",
   "id": "5032505f",
   "metadata": {},
   "source": [
    "---"
   ]
  },
  {
   "cell_type": "markdown",
   "id": "746a3eef",
   "metadata": {},
   "source": [
    "\n",
    "### Problématique : Si un ordinateur ne manipule que des 0 et des 1, Comment procède-t-il alors pour coder du texte à partir du binaire ? \n",
    "\n"
   ]
  },
  {
   "cell_type": "markdown",
   "id": "94301004",
   "metadata": {},
   "source": [
    "<img src=\"https://github.com/Lionel-Helin-Oza/TP2.2---Representation-des-caracteres/blob/main/logo-genumsi.png?raw=true\" width=\"150\">"
   ]
  },
  {
   "cell_type": "markdown",
   "id": "9f2c3b8b",
   "metadata": {},
   "source": [
    "---"
   ]
  },
  {
   "cell_type": "markdown",
   "id": "57a1ad2c",
   "metadata": {},
   "source": [
    "## C'est quoi une chaîne de caractères ?\n",
    "\n",
    "\n",
    "Une chaîne de caractères peut être:\n",
    "\n",
    "- une lettre, un caractère\n",
    "- un mot\n",
    "- une phrase\n",
    "- un texte\n",
    "\n",
    "La longueur d'une chaîne de caractère est le nombre de caractères qu'elle contient.\n",
    "\n",
    "Vous le verez dans quelques semaines, mais l'instruction en Python pour avoir accès à la longueur d'une chaîne est :  **len(ma_chaine)**, (`print` nous permet d'afficher à l'écran). \n",
    "\n",
    "Voici un exemple permettant de comprendre la longueur d'une chaîne de caractère.\n",
    "\n",
    "```py\n",
    "ma_chaine = \"Hello world\"\n",
    "print(len(ma_chaine)) # affiche 11\n",
    "\n",
    "```\n"
   ]
  },
  {
   "cell_type": "markdown",
   "id": "ba16bbdb",
   "metadata": {},
   "source": [
    "## Comment est codé un caractère sur l'ordinateur ?"
   ]
  },
  {
   "cell_type": "markdown",
   "id": "bde11b06",
   "metadata": {},
   "source": [
    "### Première approche"
   ]
  },
  {
   "cell_type": "markdown",
   "id": "aae4286b",
   "metadata": {},
   "source": [
    "Ouvrir un fichier Excel, ou un document Google Sheet\n",
    "\n",
    "1. Sur la ligne 1 du tableau, écrire votre NOM et PRENOM en MAJUSCULE  \n",
    "\n",
    "\t- une case par lettre \n",
    "    - un espace entre NOM et PRENOM. \n",
    "    \n",
    "2. Sur la ligne 2 du tableau, entrer la formule : = code (A1) puis recopier vers la droite : \n",
    "\n",
    "Vous devez obtenir quelque chose comme cela :"
   ]
  },
  {
   "cell_type": "markdown",
   "id": "7ce4325b",
   "metadata": {},
   "source": [
    "<img src=\"https://github.com/Lionel-Helin-Oza/TP2.2---Representation-des-caracteres/blob/main/excell_asci.jpg?raw=true\" width=\"650\">"
   ]
  },
  {
   "cell_type": "markdown",
   "id": "35f29bc1",
   "metadata": {},
   "source": [
    "***Indiquez ici le résultat obtenu pour votre prénom :***"
   ]
  },
  {
   "cell_type": "raw",
   "id": "fd7c036e",
   "metadata": {},
   "source": [
    "\n",
    "72\t69\t78\t79\t67\t81\t32\t76\t85\t67\t65\t83\n"
   ]
  },
  {
   "cell_type": "markdown",
   "id": "830fb1ec",
   "metadata": {},
   "source": [
    "3. Même question mais avec des lettres minuscules. Qu’observez-vous par rapport au 1er test ? "
   ]
  },
  {
   "cell_type": "markdown",
   "id": "1b2183c9",
   "metadata": {},
   "source": [
    "***Votre réponse ci-dessous :***"
   ]
  },
  {
   "cell_type": "raw",
   "id": "44060220",
   "metadata": {},
   "source": [
    "\n",
    "104\t101\t110\t111\t99\t113\t32\t108\t117\t99\t97\t115\n",
    "\n",
    "Les chiffres sont plus élevés"
   ]
  },
  {
   "cell_type": "markdown",
   "id": "59111f02",
   "metadata": {},
   "source": [
    "On remarque que chaque lettre, ainsi que l’espace sont codés par un nombre. La correspondance entre ce nombre et la lettre provient d'une table normalisée. Cependant, de nombreuses normes existent. Les raisons en sont pour la plupart historiques, mais pas seulement. Nous regarderons dans ce TP trois de ces normes, dont la dernière - l'unicode - est aujourd'hui celle majoritairement utilisée."
   ]
  },
  {
   "cell_type": "markdown",
   "id": "86b2c0b0",
   "metadata": {},
   "source": [
    "## Historiquement - la norme ASCII"
   ]
  },
  {
   "cell_type": "markdown",
   "id": "c95d32f3",
   "metadata": {},
   "source": [
    "### Encoding"
   ]
  },
  {
   "cell_type": "markdown",
   "id": "55e78975",
   "metadata": {},
   "source": [
    "Un des premiers codages standardisés est le code du « Morse » au XIXe siècle.  Pour ce qui est de l’informatique, c’est le code **ASCII** dont les premières versions datent du début des années 1960. \n",
    "\n",
    "À partir des années 1960, les ordinateurs commencent à être équipés d'un clavier et d'un rouleau pour imprimer les sorties. Il fut donc nécessaire de décider comment manipuler les caractères alphanumériques.\n",
    "\n",
    "La décision fut prise de représenter les caractères de l'alphabet anglais sur un octet de la manière suivante :\n",
    "\n",
    "- les 7 octets de poids faible (les plus à droite) serviront à associer une valeur numérique à chaque caractère ;\n",
    "- l'octet de poids fort (celui le plus à gauche) sera le bit de parité - une clé de contrôle.\n",
    "\n",
    "***Pourquoi avoir besoin d'une clef de contrôle ?***"
   ]
  },
  {
   "cell_type": "markdown",
   "id": "9e653af8",
   "metadata": {},
   "source": [
    "Les ordinateurs de cette époque étant peu fiables au niveau des transmissions et traitement des bits, il arrivait des erreurs lors du traitement des signaux et un octet `1101 1011` pouvait vite se transformer en `1001 1011` : les données étaient alors corrompues et le mauvais caractère serait affiché. Le bit de parité est un bit qui prenait la valeur `0` ou `1` selon la parité du nombre de 1 dans les 7 bits représentant le caractère.\n",
    "\n",
    "Ainsi, si les 7 bits sont `101 1001`, le bit de parité est à 0, et l'octet complet devient `0101 1001`. Si celui reçu est `0101 0001`, un simple calcul avec le bit de parité permet de constater que le traitement du signal est défectueux.\n",
    "\n",
    "Il reste donc 7 bits pour encoder les caractères"
   ]
  },
  {
   "cell_type": "markdown",
   "id": "39b79667",
   "metadata": {},
   "source": [
    "***Question 1*** : Sachant que l’on dispose de 127 caractères en ASCII, combien de bits sont nécessaires pour coder tous les caractères du code ? \n",
    "\n",
    "***Votre réponse ci-dessous :***"
   ]
  },
  {
   "cell_type": "raw",
   "id": "674fe634",
   "metadata": {},
   "source": [
    "\n",
    "2^7 = 128 > 127 ; Il faut donc 7 bits pour coder tout les caractères en ASCII.\n"
   ]
  },
  {
   "cell_type": "markdown",
   "id": "a5209846",
   "metadata": {},
   "source": [
    "\n",
    "**ASCII** signifie **American Standard Code for Information Interchange**.  \n",
    "\n",
    "Le principe est assez simple, il consiste à associer à chaque lettre ou chiffre un entier entre 0 et 127. Ce codage doit être compris par tous : il est normalisé. \n",
    "\n",
    "L'**ISO** (International Organization for Standardisation) est un organisme de normalisation international et l’**AFNOR** (Association française de normalisation) est l'organisme français. \n",
    "\n",
    "Chaque caractère est donc identifié par un code unique qui est un entier naturel et la correspondance entre le caractère et son code est appelée un **Charset**. Le code n’étant pas utilisable tel quel par un ordinateur qui ne comprend que le binaire, il faut donc représenter les codes par des octets : C’est l’**ENCODING**"
   ]
  },
  {
   "cell_type": "markdown",
   "id": "cf03397a",
   "metadata": {},
   "source": [
    "***Question 2 :*** Utiliser la fonction `=DECBIN()`  du tableur EXCEL, ou la fonction `=DEC2BIN()` sur Google SHEET, pour obtenir la représentation en binaire de votre nom et prénom. Vérifier le nombre de bits utilisés pour chaque lettre\n",
    "\n",
    "Indiquez le résultat obtenu pour les trois premières lettres de votre prénom."
   ]
  },
  {
   "cell_type": "markdown",
   "id": "ec04531c",
   "metadata": {},
   "source": [
    "***Votre réponse ci-dessous :***"
   ]
  },
  {
   "cell_type": "raw",
   "id": "39989ff5",
   "metadata": {},
   "source": [
    "\n",
    "01101100\t01110101\t01100011"
   ]
  },
  {
   "cell_type": "markdown",
   "id": "8132a347",
   "metadata": {},
   "source": [
    "### Taille d'un texte "
   ]
  },
  {
   "cell_type": "markdown",
   "id": "1d840c00",
   "metadata": {},
   "source": [
    "***Question 3 :*** Quelle est la taille en octets de la phrase suivante :   (compter les lettres, les symboles et les espaces !)  \n",
    "\n",
    "                               «Enfin ! Je viens de comprendre ce qui se produit.» \n",
    "\n"
   ]
  },
  {
   "cell_type": "markdown",
   "id": "74945250",
   "metadata": {},
   "source": [
    "***Votre réponse ci-dessous :***"
   ]
  },
  {
   "cell_type": "raw",
   "id": "671e61b9",
   "metadata": {},
   "source": [
    "\n",
    "La phrase fait 40 octets"
   ]
  },
  {
   "cell_type": "markdown",
   "id": "04cce5b7",
   "metadata": {},
   "source": [
    "**Vérification :**\n",
    "- Taper cette phrase dans le Bloc-notes de Windows ; \n",
    "- Enregistrer ce texte en tant que « texte brut » (extension .txt) \n",
    "- Vérifier la taille en octets du fichier (clic droit sur l’icône du fichier puis sur Propriétés) \n",
    "\n",
    "Ecrivez la même phrase dans un logiciel de traitement de texte (Open office ou Word) et observez la taille du fichier. Quelle peut-être l’explication ? \n"
   ]
  },
  {
   "cell_type": "markdown",
   "id": "7a867b7d",
   "metadata": {},
   "source": [
    "***Votre réponse ci-dessous :***"
   ]
  },
  {
   "cell_type": "raw",
   "id": "523eaa2b",
   "metadata": {},
   "source": [
    "Le fichier texte fait 49o alors que le fichier odt fait 9Ko.\n",
    "Cela est a cause des informations logiciel que le fichier contient."
   ]
  },
  {
   "cell_type": "markdown",
   "id": "7776bc77",
   "metadata": {},
   "source": [
    "### Utilisation de la table ASCII"
   ]
  },
  {
   "cell_type": "markdown",
   "id": "02c38577",
   "metadata": {},
   "source": [
    "Ce codage ASCII est présenté dans la table de jeu de caractères ci-dessous :"
   ]
  },
  {
   "cell_type": "markdown",
   "id": "1ff416b1",
   "metadata": {},
   "source": [
    "\n",
    "<img src=\"https://github.com/Lionel-Helin-Oza/TP2.2---Representation-des-caracteres/blob/main/ASCII.png?raw=true\" width=\"650\">"
   ]
  },
  {
   "cell_type": "markdown",
   "id": "48b4815b",
   "metadata": {},
   "source": [
    "La table ASCII contient 95 caractères imprimables :\n",
    "\n",
    "- les chiffres de 0 à 9 ;\n",
    "- les lettres minuscules de a à z et majuscules de A à Z ;\n",
    "- des symboles mathématiques et de ponctuation.\n",
    "\n",
    "Les 32 premiers caractères de 00 à 1F, ainsi que le caractère FF ne sont pas imprimables, ils correspondent à des commandes de contrôle de terminaux informatiques (le caractère FF est la commande pour effacer le caractère précédent, le 07 provoque l'émission d'un signal sonore, etc).\n",
    "\n",
    "Nous avons vu que Excell , ou Google Sheet nous permettait de faire les conversions Binaire - Héxadécimale - caractère. Nous allons utilisez ces fonctions pour vérifier (et découvrir) la table."
   ]
  },
  {
   "cell_type": "markdown",
   "id": "597cb127",
   "metadata": {},
   "source": [
    "**Question 4:** : Quel est le code (en ASCII décimal puis en binaire) du caractère **`1`** ? du caractère **`*`** ? (Utilisez le tableur) - Vérifiez le résultat obtenu avec la table ASCII"
   ]
  },
  {
   "cell_type": "markdown",
   "id": "cbd5e32b",
   "metadata": {},
   "source": [
    "***Votre réponse ci-dessous :***"
   ]
  },
  {
   "cell_type": "raw",
   "id": "e8ed14c6",
   "metadata": {},
   "source": [
    "\n",
    "Le code decimal de 1 est 49 et son code binaire est 110001.\n",
    "Le code decimal de * est 42 et son code binaire est 101010."
   ]
  },
  {
   "cell_type": "markdown",
   "id": "9b431bb0",
   "metadata": {},
   "source": [
    "**Question 5:** Coder en binaire : \n",
    "            \n",
    "            « L’an qui vient ! » \n",
    "\n",
    "puis vérifier avec Excel"
   ]
  },
  {
   "cell_type": "markdown",
   "id": "891e7678",
   "metadata": {},
   "source": [
    "***Votre réponse ci-dessous :***"
   ]
  },
  {
   "cell_type": "raw",
   "id": "aeacfc0b",
   "metadata": {},
   "source": [
    "01001100 00100111 01100001 01101110 00100000 01110001 01110101 01101001 00100000 01110110 01101001 01100101 01101110 01110100 00100000 00100001"
   ]
  },
  {
   "cell_type": "markdown",
   "id": "5be08d5d",
   "metadata": {},
   "source": [
    "**Question 6:**  Voici maintenant une exclamation codée en binaire : \n",
    "\n",
    "                          01000010  01110010  01100001  01110110  01101111  00100001 \n",
    " \n",
    "Retrouvez cette exclamation : \n"
   ]
  },
  {
   "cell_type": "markdown",
   "id": "e1db38ff",
   "metadata": {},
   "source": [
    "***Votre réponse ci-dessous :***"
   ]
  },
  {
   "cell_type": "raw",
   "id": "99602862",
   "metadata": {},
   "source": [
    "L'exclamation est : \"Bravo!\""
   ]
  },
  {
   "cell_type": "markdown",
   "id": "c6929a6e",
   "metadata": {},
   "source": [
    "*Vérifiez avec Excell en utilisant la fonction `=CAR()` ou avec Google Sheet en utilisant la fonction `=CHAR()`*"
   ]
  },
  {
   "cell_type": "markdown",
   "id": "8d610adf",
   "metadata": {},
   "source": [
    "**Question 7** : Entrer la phrase suivante sur le tableur et codez-là en ASCII : \n",
    "\n",
    "                                        « Un âne est-il passé par là ?» \n",
    "                                        \n",
    "Qu’observez-vous ? \n"
   ]
  },
  {
   "cell_type": "markdown",
   "id": "ab8a0605",
   "metadata": {},
   "source": [
    "***Votre réponse ci-dessous :***"
   ]
  },
  {
   "cell_type": "raw",
   "id": "27d67eee",
   "metadata": {},
   "source": []
  },
  {
   "cell_type": "markdown",
   "id": "879a1e51",
   "metadata": {},
   "source": [
    "## La norme ISO-8859"
   ]
  },
  {
   "cell_type": "markdown",
   "id": "d22f72a9",
   "metadata": {},
   "source": [
    "Dès la fin des années 60, alors que la qualité des ordinateurs s'améliore, il devient possible de bénéficier de l'octet de poids fort pour disposer de possibilités de codage. \n",
    "\n",
    "Les différents constructeurs d'ordinateurs se précipitent sur cette possibilité afin de palier aux défauts de l'ASCII, malheureusement sans se coordonner. Différentes normes voient le jour, appelées ASCII étendues, pour la plupart incompatibles entre elles. \n",
    "\n",
    "Par exemple IBM produit une table, la **CP437**, possédant des accents, ainsi que de nombreux symboles de tracés de boites - les interfaces graphiques n'existant pas encore sur ces machines :"
   ]
  },
  {
   "cell_type": "markdown",
   "id": "60b5530a",
   "metadata": {},
   "source": [
    "\n",
    "<img src=\"https://github.com/Lionel-Helin-Oza/TP2.2---Representation-des-caracteres/blob/main/CP437.jpg?raw=true\" width=\"450\">"
   ]
  },
  {
   "cell_type": "markdown",
   "id": "d38fbcb8",
   "metadata": {},
   "source": [
    "**Question 8 :** Combien le fait d’avoir 8 bits amène-t-il de nouvelles possibilités de codage de caractères ? "
   ]
  },
  {
   "cell_type": "markdown",
   "id": "65f42428",
   "metadata": {},
   "source": [
    "***Votre réponse ci-dessous :***"
   ]
  },
  {
   "cell_type": "raw",
   "id": "4ce62736",
   "metadata": {},
   "source": [
    "\n",
    "2^8 - 2^7 = 256-128 = 128\n",
    "Cela offre 128 nouvelles possiblités.\n"
   ]
  },
  {
   "cell_type": "markdown",
   "id": "ac37e5db",
   "metadata": {},
   "source": [
    "Malgré tout, une norme arrive à être établie, l'ISO-8859, avec les conventions suivantes :\n",
    "\n",
    "- le codage des caractères présents dans la tables ASCII est conservé (principe de rétro-compatibilité) ;\n",
    "- on conserve le principe de caractères sur 1 octet, avec utilisation complète de 8 bits.\n",
    "\n",
    "Plusieurs jeux de caractères coexistent alors :"
   ]
  },
  {
   "cell_type": "markdown",
   "id": "bb356126",
   "metadata": {},
   "source": [
    "<img src=\"https://github.com/Lionel-Helin-Oza/TP2.2---Representation-des-caracteres/blob/main/iso88591.png?raw=true\" width=\"450\">"
   ]
  },
  {
   "cell_type": "markdown",
   "id": "ab71238c",
   "metadata": {},
   "source": [
    "<img src=\"https://github.com/Lionel-Helin-Oza/TP2.2---Representation-des-caracteres/blob/main/iso88595.png?raw=true\" width=\"450\">"
   ]
  },
  {
   "cell_type": "markdown",
   "id": "739f11bf",
   "metadata": {},
   "source": [
    "Le jeu occidental **ISO 8859-1**, aussi appelé **ISO-Latin-1**, a été le jeu par défaut du web avant d'être à son tour remplacé par l'**unicode**. Il permettait de représenter les caractères accentués (é, è, ç, à, ù, ô). La norme **ISO 8859-1** a été révisée en **ISO 8859-15** à la fin des années 1990 pour y ajouter de nouveaux caractères (comme le symbole €).\n",
    "\n",
    "La distinction entre ASCII, ISO 8859-1, ISO 8859-15 et même Windows-1252 est une source de confusion parmi les développeurs de programmes informatiques car un même caractère peut être codé différemment suivant la norme utilisée. Par exemple, le caractère **€** a pour code **128** dans l'extension **Windows-1252** et **164** dans la norme ISO 8859-15. \n",
    "\n",
    "Si vous voulez des compléments d'information sur ces normes : \n",
    "\n",
    "http://fr.wikipedia.org/wiki/ISO_8859-1  \n",
    " \n",
    "http://fr.wikipedia.org/wiki/Windows-1252 \n",
    " \n",
    "http://fr.wikipedia.org/wiki/ISO_8859-15 \n"
   ]
  },
  {
   "cell_type": "markdown",
   "id": "0b6e5a4c",
   "metadata": {},
   "source": [
    "### Quelques outils Python"
   ]
  },
  {
   "cell_type": "markdown",
   "id": "1969fdea",
   "metadata": {},
   "source": [
    "Vous ne connaissez pas encore le langage Python, mais nous allons voir quelques outils nous permettant de manipuler ces chaînes de caractères. Vous pouvez exécuter e code en cliquant que le bouton Exécuter (icône avec un triangle)."
   ]
  },
  {
   "cell_type": "code",
   "execution_count": 1,
   "id": "a64e4a56",
   "metadata": {},
   "outputs": [
    {
     "name": "stdout",
     "output_type": "stream",
     "text": [
      "N\n"
     ]
    }
   ],
   "source": [
    "# fonction chr() : Convertit le code décimal passé en argument dans le caractère ASCII correspondant\n",
    "\n",
    "print(chr(78))  # Convertit le code décimal 79 dans le caractère ASCII , ici N"
   ]
  },
  {
   "cell_type": "code",
   "execution_count": 2,
   "id": "965b5140",
   "metadata": {
    "scrolled": true
   },
   "outputs": [
    {
     "name": "stdout",
     "output_type": "stream",
     "text": [
      "0b1001110\n"
     ]
    }
   ],
   "source": [
    "# fonction bin() : Convertit le code décimal donné en paramère en mot binaire\n",
    "\n",
    "print(bin(78)) #concertit 78 en binaire, ici 100 1110 ( à noter le préfixe 0b indiquant que l'on a un mot binaire en réponse)"
   ]
  },
  {
   "cell_type": "code",
   "execution_count": 3,
   "id": "90fe55e0",
   "metadata": {},
   "outputs": [
    {
     "name": "stdout",
     "output_type": "stream",
     "text": [
      "0x4e\n"
     ]
    }
   ],
   "source": [
    "# fonction hex()  Convertit le code décimal donné en paramètre en mot hexadécimal\n",
    "\n",
    "print(hex(78)) #concertit 78 en hexadécimal, ici 14e ( à noter le préfixe 0x indiquant que l'on a un mot hexadécimal en réponse)"
   ]
  },
  {
   "cell_type": "code",
   "execution_count": 4,
   "id": "9fb509b5",
   "metadata": {},
   "outputs": [
    {
     "name": "stdout",
     "output_type": "stream",
     "text": [
      "78\n"
     ]
    }
   ],
   "source": [
    "# fonction int()  Convertit ce qui est passé en argument en décimal\n",
    "\n",
    "print(int(0x4e))  # convertit le nombre hexadécimal 0x4e en entier décimal "
   ]
  },
  {
   "cell_type": "code",
   "execution_count": 5,
   "id": "ddb7ce87",
   "metadata": {},
   "outputs": [
    {
     "name": "stdout",
     "output_type": "stream",
     "text": [
      "N\n"
     ]
    }
   ],
   "source": [
    "# Pour passer d'un nombre hexadécimal en caractère, il faut d'abord passer ce nombre hexadécimal \n",
    "# en entier avec la fonction int() , puis le passer en caractère avec la fonction chr()\n",
    "\n",
    "print (chr(int(0x4e)))   # renvoi 'N'\n"
   ]
  },
  {
   "cell_type": "code",
   "execution_count": 6,
   "id": "994da60a",
   "metadata": {
    "scrolled": false
   },
   "outputs": [
    {
     "name": "stdout",
     "output_type": "stream",
     "text": [
      "78\n"
     ]
    }
   ],
   "source": [
    "# fonction ord(caractère)  convertit le caractère en décimal \n",
    "\n",
    "print(ord('N')) # convertit 'N' en décimal, ici 78"
   ]
  },
  {
   "cell_type": "markdown",
   "id": "39906929",
   "metadata": {},
   "source": [
    "### Des outils pour encoder / décoder"
   ]
  },
  {
   "cell_type": "markdown",
   "id": "69db22ad",
   "metadata": {},
   "source": [
    "Il est possible avec Python de basculer d'un jeu de caractère à un autre. Le principe est de récupérer l'octet correspondant à un caractère dans un charmap, et d'afficher le caractère correspondant dans le nouveau charmap. Pour cela on utilise les méthodes suivantes :\n",
    "\n",
    "- .encode(charmap) : transforme une chaine de caractère de la charmap passée en argument en une séquence d'octets ;\n",
    "- .decode(charmap) : transforme une séquence d'octets en une chaine de caractère de la charmap passée en argument.\n",
    "\n",
    "\n",
    "**Exemple d'encodage du caractère 'A' dans les différentes normes :**\n"
   ]
  },
  {
   "cell_type": "code",
   "execution_count": 7,
   "id": "dd12a84c",
   "metadata": {},
   "outputs": [
    {
     "data": {
      "text/plain": [
       "b'A'"
      ]
     },
     "execution_count": 7,
     "metadata": {},
     "output_type": "execute_result"
    }
   ],
   "source": [
    "p='A'\n",
    "p.encode('ASCII')"
   ]
  },
  {
   "cell_type": "code",
   "execution_count": 8,
   "id": "0fa76cde",
   "metadata": {},
   "outputs": [
    {
     "data": {
      "text/plain": [
       "b'A'"
      ]
     },
     "execution_count": 8,
     "metadata": {},
     "output_type": "execute_result"
    }
   ],
   "source": [
    "p='A'\n",
    "p.encode('ISO8859-1')"
   ]
  },
  {
   "cell_type": "code",
   "execution_count": 9,
   "id": "886199eb",
   "metadata": {},
   "outputs": [
    {
     "data": {
      "text/plain": [
       "b'A'"
      ]
     },
     "execution_count": 9,
     "metadata": {},
     "output_type": "execute_result"
    }
   ],
   "source": [
    "p='A'\n",
    "p.encode('ISO8859-5')"
   ]
  },
  {
   "cell_type": "code",
   "execution_count": 10,
   "id": "fd7456cd",
   "metadata": {},
   "outputs": [
    {
     "data": {
      "text/plain": [
       "b'A'"
      ]
     },
     "execution_count": 10,
     "metadata": {},
     "output_type": "execute_result"
    }
   ],
   "source": [
    "p='A'\n",
    "p.encode('Latin-1')"
   ]
  },
  {
   "cell_type": "markdown",
   "id": "8d13d405",
   "metadata": {},
   "source": [
    "**Question 9 :** Faites de même avec le caractère `'é'`. Que constatez vous ? "
   ]
  },
  {
   "cell_type": "markdown",
   "id": "f7d94c84",
   "metadata": {},
   "source": [
    "***Votre réponse ci-dessous :***"
   ]
  },
  {
   "cell_type": "raw",
   "id": "d21ce6e2",
   "metadata": {},
   "source": [
    "\n",
    "On remarque que le caractère \"é\" n'existe que dans certaines tables : ISO8859-1 et Latin-1 et donc cela donne des erreurs dans les tables ASCII et ISO8859-5.\n"
   ]
  },
  {
   "cell_type": "markdown",
   "id": "45652777",
   "metadata": {},
   "source": [
    "**Question 10 :** A l'aide de la méthode `.decode( )`, à quels caractères correspond l'octet dont le code Python est `b'\\xe7'` selon l'encodage utilisé :"
   ]
  },
  {
   "cell_type": "markdown",
   "id": "480e00a4",
   "metadata": {},
   "source": [
    "***Votre réponse ci-dessous :***"
   ]
  },
  {
   "cell_type": "code",
   "execution_count": 11,
   "id": "019ee09e",
   "metadata": {},
   "outputs": [],
   "source": [
    "# taper votre code ici en Latin-1 ?\n",
    "p=b'\\xe7'\n",
    "p.decode('Latin-1')"
   ]
  },
  {
   "cell_type": "code",
   "execution_count": 12,
   "id": "e35f6143",
   "metadata": {},
   "outputs": [],
   "source": [
    "# taper votre code ici en ISO8859-5?\n",
    "p=b'\\xe7'\n",
    "p.decode('ISO8859-5')"
   ]
  },
  {
   "cell_type": "code",
   "execution_count": 13,
   "id": "a4e7ff2c",
   "metadata": {},
   "outputs": [],
   "source": [
    "# taper votre code ici en CP437  ?\n",
    "p=b'\\xe7'\n",
    "p.decode('CP437')"
   ]
  },
  {
   "cell_type": "markdown",
   "id": "bd338d2b",
   "metadata": {},
   "source": [
    "**Question 11 :** Nous avons tous un jour reçu un courriel bizarre ou lu une page web telle que celle-ci : "
   ]
  },
  {
   "cell_type": "markdown",
   "id": "fa016326",
   "metadata": {},
   "source": [
    "*Prenons lâ€™exemple typique de la lumiÃ¨re Ã©mise par un phare maritime : elle est dâ€™abord indivisible, son coÃ»t de production Ã©tant alors indÃ©pendant du nombre \n",
    "d'utilisateurs ; elle possÃ¨de une propriÃ©tÃ© de non-rivalitÃ© (elle ne se dÃ©truit pas dans \n",
    "l'usage et peut donc Ãªtre adoptÃ©e par un nombre illimitÃ© d'utilisateurs) ; elle est Ã©galement non excluable car il est impossible dâ€™exclure de lâ€™usage un utilisateur, mÃªme si ce dernier ne contribue pas Ã son financement* \n"
   ]
  },
  {
   "cell_type": "markdown",
   "id": "c608f0e8",
   "metadata": {},
   "source": [
    "Comment l’expliquer vous ? ( réponse en dessous)"
   ]
  },
  {
   "cell_type": "markdown",
   "id": "f1985590",
   "metadata": {},
   "source": [
    "\n",
    "Cela s'explique par le fait que l'envoyeur a utilisé une table differente que celle du receveur.\n"
   ]
  },
  {
   "cell_type": "markdown",
   "id": "6c7cb004",
   "metadata": {},
   "source": [
    "## L'encodage Unicode UTF-8\n"
   ]
  },
  {
   "cell_type": "markdown",
   "id": "77f5569a",
   "metadata": {},
   "source": [
    "\n",
    "\n"
   ]
  },
  {
   "cell_type": "markdown",
   "id": "8958d493",
   "metadata": {},
   "source": [
    "Internet naissant, les problèmes liés aux différents encodages ont augmentés exponentiellement (et perdurent toujours aujourd'hui sur certains logiciels). \n",
    "\n",
    "La globalisation des échanges culturels et économiques conduit à la coexistence de nombreuses langues : les langues européennes et de nombreuses autres langues aux alphabets spécifiques voire sans alphabet. \n",
    "\n",
    "L’emploi d’internet dans le monde entier a donc nécessité la prise en compte d’un nombre plus important de caractères (par exemple, le mandarin possède plus de 5000 caractères).  \n",
    "\n",
    "D’autre part, avec le faible nombre de caractères pris en compte, cela pouvait conduire à des confusions : les symboles monétaires ne sont pas tous représentés dans le système ISO 8859-1 d’où des incompréhensions préjudiciables dans les ordres de paiement par courrier électronique.\n",
    "\n",
    "Un consortium composé d’informaticiens, de chercheurs, de linguistes et de personnalités représentant les Etats ainsi que les entreprises s’occupe d’unifier toutes les pratiques en un seul et même système : la norme **UNICODE** (né au début des années 1990).\n",
    "\n",
    "L'objectif de cette norme est triple :\n",
    "\n",
    "- Rétro-compatibilité avec ASCII, et en grande partie avec ISO8859-1 ;\n",
    "- Gestion d'un plus grand nombre de caractères ;\n",
    "-  Affichage de textes bi-directionnels."
   ]
  },
  {
   "cell_type": "markdown",
   "id": "ff1ce0ea",
   "metadata": {},
   "source": [
    "L’**Unicode** est la table de correspondance Caractères code (Charset).  \n",
    "L’**UTF-8** est l’encodage correspondant (**Encoding**) le plus répandu (par défaut, les navigateurs Internet utilisent le codage UTF-8), il permet de coder tout caractère indépendamment de tout système de programmation ou système d'exploitation.  Ce code est utilisé dans les pages WEB, les emails, etc.\n",
    "\n",
    "L'UTF-8 est utilisé par 82.2% des sites web en décembre 2014, puis 87.6% en 2016 et enfin 95.2% en octobre 2020.\n",
    " "
   ]
  },
  {
   "cell_type": "markdown",
   "id": "0a417ca3",
   "metadata": {},
   "source": [
    "---"
   ]
  },
  {
   "cell_type": "markdown",
   "id": "7358b1ca",
   "metadata": {},
   "source": [
    "| <span style='color:Blue'> L.HELIN |  | |   | |     |<span style='color:Blue'> NSI Première | |   | ||<span style='color:Blue'> Lycée Ozanam (Lille)|\n",
    "| --- | --- |--- |--- |--- |--- | --- | --- |--- |--- | --- | --- |"
   ]
  }
 ],
 "metadata": {
  "kernelspec": {
   "display_name": "Python 3 (ipykernel)",
   "language": "python",
   "name": "python3"
  },
  "language_info": {
   "codemirror_mode": {
    "name": "ipython",
    "version": 3
   },
   "file_extension": ".py",
   "mimetype": "text/x-python",
   "name": "python",
   "nbconvert_exporter": "python",
   "pygments_lexer": "ipython3",
   "version": "3.9.7"
  }
 },
 "nbformat": 4,
 "nbformat_minor": 5
}
